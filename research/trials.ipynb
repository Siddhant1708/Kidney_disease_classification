{
 "cells": [
  {
   "cell_type": "markdown",
   "metadata": {},
   "source": [
    "# Downlaod data from the google drive"
   ]
  },
  {
   "cell_type": "code",
   "execution_count": 1,
   "metadata": {},
   "outputs": [],
   "source": [
    "import gdown"
   ]
  },
  {
   "cell_type": "code",
   "execution_count": 2,
   "metadata": {},
   "outputs": [],
   "source": [
    "url = 'https://drive.google.com/file/d/1LURn9pvOaJjuBA9Oi6tx40bTkaYrlrHQ/view?usp=sharing'"
   ]
  },
  {
   "cell_type": "code",
   "execution_count": 3,
   "metadata": {},
   "outputs": [],
   "source": [
    "#first we need to fetch the id of the file from the url\n",
    "file_id = url.split('/')[-2]"
   ]
  },
  {
   "cell_type": "code",
   "execution_count": 5,
   "metadata": {},
   "outputs": [
    {
     "name": "stderr",
     "output_type": "stream",
     "text": [
      "Downloading...\n",
      "From (original): https://drive.google.com/uc?export=download&id=1LURn9pvOaJjuBA9Oi6tx40bTkaYrlrHQ\n",
      "From (redirected): https://drive.google.com/uc?export=download&id=1LURn9pvOaJjuBA9Oi6tx40bTkaYrlrHQ&confirm=t&uuid=c16358e1-f7d4-4765-810c-d4df29e52109\n",
      "To: /home/acer/Desktop/LLM/Kidney_disease/Kidney_disease_classification/research/kidney_dataset.zip\n",
      "100%|██████████| 46.6M/46.6M [00:18<00:00, 2.53MB/s]\n"
     ]
    },
    {
     "data": {
      "text/plain": [
       "'kidney_dataset.zip'"
      ]
     },
     "execution_count": 5,
     "metadata": {},
     "output_type": "execute_result"
    }
   ],
   "source": [
    "#now we need to add this id to prefix url, to downlaod this file\n",
    "prefix = 'https://drive.google.com/uc?export=download&id='\n",
    "gdown.download(prefix + file_id, 'kidney_dataset.zip')"
   ]
  },
  {
   "cell_type": "code",
   "execution_count": null,
   "metadata": {},
   "outputs": [],
   "source": []
  }
 ],
 "metadata": {
  "kernelspec": {
   "display_name": "kidney_pro",
   "language": "python",
   "name": "python3"
  },
  "language_info": {
   "codemirror_mode": {
    "name": "ipython",
    "version": 3
   },
   "file_extension": ".py",
   "mimetype": "text/x-python",
   "name": "python",
   "nbconvert_exporter": "python",
   "pygments_lexer": "ipython3",
   "version": "3.8.20"
  }
 },
 "nbformat": 4,
 "nbformat_minor": 2
}
